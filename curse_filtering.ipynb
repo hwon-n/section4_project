{
  "nbformat": 4,
  "nbformat_minor": 0,
  "metadata": {
    "colab": {
      "name": "curse_filtering.ipynb",
      "provenance": [],
      "mount_file_id": "https://github.com/hwon-n/section4_project/blob/main/curse_filtering.ipynb",
      "authorship_tag": "ABX9TyOzInzvxDbAI+Rkn65J49f0",
      "include_colab_link": true
    },
    "kernelspec": {
      "name": "python3",
      "display_name": "Python 3"
    },
    "language_info": {
      "name": "python"
    }
  },
  "cells": [
    {
      "cell_type": "markdown",
      "metadata": {
        "id": "view-in-github",
        "colab_type": "text"
      },
      "source": [
        "<a href=\"https://colab.research.google.com/github/hwon-n/section4_project/blob/main/curse_filtering.ipynb\" target=\"_parent\"><img src=\"https://colab.research.google.com/assets/colab-badge.svg\" alt=\"Open In Colab\"/></a>"
      ]
    },
    {
      "cell_type": "markdown",
      "source": [
        "# 욕설 감지 프로젝트"
      ],
      "metadata": {
        "id": "Aotg339ilrkH"
      }
    },
    {
      "cell_type": "markdown",
      "source": [
        "데이터셋 주소: [2runo github](https://github.com/2runo/Curse-detection-data)"
      ],
      "metadata": {
        "id": "ZrmpM1filGS6"
      }
    },
    {
      "cell_type": "code",
      "source": [
        "pip install beautifulsoup4"
      ],
      "metadata": {
        "colab": {
          "base_uri": "https://localhost:8080/"
        },
        "id": "e1hyOHIfS8n6",
        "outputId": "901d6a5a-ceb4-463f-a4db-fbc9377db884"
      },
      "execution_count": 6,
      "outputs": [
        {
          "output_type": "stream",
          "name": "stdout",
          "text": [
            "Requirement already satisfied: beautifulsoup4 in /usr/local/lib/python3.7/dist-packages (4.6.3)\n"
          ]
        }
      ]
    },
    {
      "cell_type": "code",
      "execution_count": 1,
      "metadata": {
        "colab": {
          "base_uri": "https://localhost:8080/"
        },
        "id": "xQDbYWYui3di",
        "outputId": "c7ab10fa-9fa3-449d-9e11-d3f206feec33"
      },
      "outputs": [
        {
          "output_type": "stream",
          "name": "stdout",
          "text": [
            "Requirement already satisfied: requests in /usr/local/lib/python3.7/dist-packages (2.23.0)\n",
            "Requirement already satisfied: urllib3!=1.25.0,!=1.25.1,<1.26,>=1.21.1 in /usr/local/lib/python3.7/dist-packages (from requests) (1.24.3)\n",
            "Requirement already satisfied: certifi>=2017.4.17 in /usr/local/lib/python3.7/dist-packages (from requests) (2021.10.8)\n",
            "Requirement already satisfied: idna<3,>=2.5 in /usr/local/lib/python3.7/dist-packages (from requests) (2.10)\n",
            "Requirement already satisfied: chardet<4,>=3.0.2 in /usr/local/lib/python3.7/dist-packages (from requests) (3.0.4)\n"
          ]
        }
      ],
      "source": [
        "pip install requests"
      ]
    },
    {
      "cell_type": "code",
      "source": [
        "import os\n",
        "root = '/content/drive/MyDrive/curse_dataset.txt'\n",
        "\n",
        "txt_file = open(root, encoding = 'utf-8')\n",
        "\n",
        "curse = []\n",
        "for txt in txt_file:\n",
        "  txt = txt.replace('\\n', '')\n",
        "  text, label = txt.split('|', 1)\n",
        "  curse.append([text, label])\n",
        "\n",
        "len(curse)"
      ],
      "metadata": {
        "colab": {
          "base_uri": "https://localhost:8080/"
        },
        "id": "c6dluyuUjKVP",
        "outputId": "66b0f01c-32b7-4bcb-a8e7-d32f58f14738"
      },
      "execution_count": 13,
      "outputs": [
        {
          "output_type": "execute_result",
          "data": {
            "text/plain": [
              "5856"
            ]
          },
          "metadata": {},
          "execution_count": 13
        }
      ]
    },
    {
      "cell_type": "code",
      "source": [
        "curse"
      ],
      "metadata": {
        "id": "bFKuqNm4lf-g"
      },
      "execution_count": null,
      "outputs": []
    },
    {
      "cell_type": "code",
      "source": [
        "# LoL 인벤 자유게시판 제목 스크래핑\n",
        "import requests\n",
        "from bs4 import BeautifulSoup\n",
        "\n",
        "titles = []\n",
        "\n",
        "url = 'https://www.inven.co.kr/board/lol/4626?p='\n",
        "for i in range(1, 21):\n",
        "  response = requests.get(url+str(i))\n",
        "  if response.status_code == 200:\n",
        "    html = response.text\n",
        "    soup = BeautifulSoup(html, 'html.parser')\n",
        "    title = soup.find_all('a', class_='subject-link')\n",
        "    for i in title:\n",
        "      i = i.get_text()\n",
        "      i = i[5:]\n",
        "      i = i.strip()\n",
        "      if len(i) > 2:\n",
        "        titles.append(i)"
      ],
      "metadata": {
        "id": "SdGImg5SoRfs"
      },
      "execution_count": 50,
      "outputs": []
    },
    {
      "cell_type": "code",
      "source": [
        "len(titles)"
      ],
      "metadata": {
        "colab": {
          "base_uri": "https://localhost:8080/"
        },
        "id": "Zg-gdtm5S2VV",
        "outputId": "602cd2a6-30ec-471d-e7ad-6d296a62522a"
      },
      "execution_count": 51,
      "outputs": [
        {
          "output_type": "execute_result",
          "data": {
            "text/plain": [
              "1339"
            ]
          },
          "metadata": {},
          "execution_count": 51
        }
      ]
    },
    {
      "cell_type": "code",
      "source": [
        "# 파일 저장\n",
        "\n",
        "path = '/content/drive/MyDrive/inven_data.txt'\n",
        "with open(path, 'w', encoding = 'utf-8') as f:\n",
        "  for title in titles:\n",
        "    f.write(title+ '|1\\n')\n",
        "\n",
        "print('저장 완료')"
      ],
      "metadata": {
        "colab": {
          "base_uri": "https://localhost:8080/"
        },
        "id": "uPZyrvxSUOPx",
        "outputId": "7a3a1801-bb6e-4399-9a87-2ff75370ec81"
      },
      "execution_count": 52,
      "outputs": [
        {
          "output_type": "stream",
          "name": "stdout",
          "text": [
            "저장 완료\n"
          ]
        }
      ]
    },
    {
      "cell_type": "code",
      "source": [
        ""
      ],
      "metadata": {
        "id": "q1IPM55tc23R"
      },
      "execution_count": null,
      "outputs": []
    }
  ]
}